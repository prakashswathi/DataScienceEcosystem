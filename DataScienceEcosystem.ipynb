{
 "cells": [
  {
   "cell_type": "markdown",
   "id": "7ad51877-faf1-4f9b-8a61-a2dba0956ce6",
   "metadata": {},
   "source": [
    "# Data Science Tools and Ecosystem"
   ]
  },
  {
   "cell_type": "markdown",
   "id": "754585c8-4fb1-4644-bf2c-9a9eb79ef37a",
   "metadata": {
    "tags": []
   },
   "source": [
    "In this notebook, Data Science Tools and Ecosystem are summarized."
   ]
  },
  {
   "cell_type": "markdown",
   "id": "14026949-f89c-4dac-958f-d01aa2a5b37a",
   "metadata": {},
   "source": [
    "Some of the popular languages used by Data Scientist are:\n",
    "1. Python \n",
    "2. R\n",
    "3. SQL\n",
    "4. C++\n",
    "5. Java etc.\n"
   ]
  },
  {
   "cell_type": "markdown",
   "id": "6272b67f-b258-4862-9957-94a9b1e7fc69",
   "metadata": {
    "tags": []
   },
   "source": [
    "Some of the commonly used libraries used by Data Scientists include:\n",
    "\n",
    "1. Numpy\n",
    "2. Pandas\n",
    "3. scikit-learn\n",
    "4. mathplotlib\n",
    "5. TensorFlow\n",
    "6. PyTorch etc..."
   ]
  },
  {
   "cell_type": "markdown",
   "id": "5fe114dd-3e44-404a-876a-801541913f5c",
   "metadata": {},
   "source": [
    "|Data Science Tools|\n",
    "|----|\n",
    "|RStudio|\n",
    "|Jupyter|\n",
    "|Anoconda|"
   ]
  },
  {
   "cell_type": "markdown",
   "id": "f1587d3b-4de5-4571-a653-74fdda35704e",
   "metadata": {
    "tags": []
   },
   "source": [
    "### Below are a few examples of evaluating arithmetic expressions in Python"
   ]
  },
  {
   "cell_type": "code",
   "execution_count": 10,
   "id": "b09c3194-4646-4814-81ee-69dd879ee2fb",
   "metadata": {
    "tags": []
   },
   "outputs": [
    {
     "data": {
      "text/plain": [
       "17"
      ]
     },
     "execution_count": 10,
     "metadata": {},
     "output_type": "execute_result"
    }
   ],
   "source": [
    "# This a simple arithmetic expression to mutiply then add integers\n",
    "(3*4)+5\n",
    "\n"
   ]
  },
  {
   "cell_type": "code",
   "execution_count": 11,
   "id": "d67e7e69-bb2a-4af0-bfdf-3cb71451e466",
   "metadata": {
    "tags": []
   },
   "outputs": [
    {
     "data": {
      "text/plain": [
       "3.3333333333333335"
      ]
     },
     "execution_count": 11,
     "metadata": {},
     "output_type": "execute_result"
    }
   ],
   "source": [
    "# This will convert 200 minutes to hours by diving by 60\n",
    "200/60"
   ]
  },
  {
   "cell_type": "markdown",
   "id": "ab393024-7012-4e3f-808e-eed8da553887",
   "metadata": {},
   "source": [
    "__Objective__\n",
    "* List of popular languages in DataScience.\n",
    "* List of popular libraries in DataScience.\n",
    "* List of well known tools in Data Science.\n",
    "* How to provide command in the cell."
   ]
  },
  {
   "cell_type": "markdown",
   "id": "6e3c92ae-d80c-4387-93db-00df4bd9a59f",
   "metadata": {},
   "source": [
    "## Author"
   ]
  },
  {
   "cell_type": "markdown",
   "id": "84874176-d936-447c-9c92-24f0fb62ba7d",
   "metadata": {},
   "source": [
    "N SWATHI"
   ]
  }
 ],
 "metadata": {
  "kernelspec": {
   "display_name": "Python",
   "language": "python",
   "name": "conda-env-python-py"
  },
  "language_info": {
   "codemirror_mode": {
    "name": "ipython",
    "version": 3
   },
   "file_extension": ".py",
   "mimetype": "text/x-python",
   "name": "python",
   "nbconvert_exporter": "python",
   "pygments_lexer": "ipython3",
   "version": "3.7.12"
  }
 },
 "nbformat": 4,
 "nbformat_minor": 5
}
